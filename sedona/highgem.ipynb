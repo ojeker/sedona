{
 "cells": [
  {
   "cell_type": "markdown",
   "id": "ee30e0ea-c6e7-47c3-8399-e426c7c3f60a",
   "metadata": {
    "tags": []
   },
   "source": [
    "# Imports und Sedona-Kontext (sed)"
   ]
  },
  {
   "cell_type": "code",
   "execution_count": 2,
   "id": "6c471c09-f889-4b1c-8947-0c7aef708d37",
   "metadata": {
    "tags": []
   },
   "outputs": [
    {
     "name": "stderr",
     "output_type": "stream",
     "text": [
      "https://artifacts.unidata.ucar.edu/repository/unidata-all added as a remote repository with the name: repo-1\n",
      "Setting default log level to \"WARN\".\n",
      "To adjust logging level use sc.setLogLevel(newLevel). For SparkR, use setLogLevel(newLevel).\n",
      "24/02/25 19:01:14 WARN NativeCodeLoader: Unable to load native-hadoop library for your platform... using builtin-java classes where applicable\n",
      "                                                                                \r"
     ]
    }
   ],
   "source": [
    "from sedona.spark import *\n",
    "from pyspark.sql.functions import expr\n",
    "import geopandas as gpd\n",
    "\n",
    "\n",
    "_config = SedonaContext.builder().master(\"spark://localhost:7077\") .\\\n",
    "    config('spark.jars.repositories', 'https://artifacts.unidata.ucar.edu/repository/unidata-all'). \\\n",
    "    getOrCreate()\n",
    "\n",
    "sed = SedonaContext.create(_config)"
   ]
  },
  {
   "cell_type": "markdown",
   "id": "8051fad8-252e-4b4d-b318-a5324093b039",
   "metadata": {},
   "source": [
    "# Gemeinden (gem)"
   ]
  },
  {
   "cell_type": "code",
   "execution_count": 8,
   "id": "fdcea056-cbd8-40e0-b51d-6086636f900f",
   "metadata": {
    "tags": []
   },
   "outputs": [
    {
     "name": "stderr",
     "output_type": "stream",
     "text": [
      "24/02/25 19:05:14 WARN TaskSetManager: Stage 6 contains a task of very large size (13567 KiB). The maximum recommended task size is 1000 KiB.\n"
     ]
    },
    {
     "name": "stdout",
     "output_type": "stream",
     "text": [
      "+--------------+----+----+----------+-----+--------------------+\n",
      "|           art|kant| bfs|      name| pers|            geometry|\n",
      "+--------------+----+----+----------+-----+--------------------+\n",
      "|Gemeindegebiet| 5.0|1367| Muotathal| 3516|POLYGON ((2707843...|\n",
      "|Gemeindegebiet| 5.0|1301|Einsiedeln|16310|POLYGON ((2701109...|\n",
      "+--------------+----+----+----------+-----+--------------------+\n",
      "only showing top 2 rows\n",
      "\n"
     ]
    }
   ],
   "source": [
    "_p_bound = '../data/ch/boundaries/swissBOUNDARIES3D_1_5_TLM_HOHEITSGEBIET.shp'\n",
    "\n",
    "_pdf_gem = gpd.read_file(_p_bound)\n",
    "gem = sed.createDataFrame(_pdf_gem)\n",
    "gem = gem.select(gem.OBJEKTART.alias('art'), gem.KANTONSNUM.alias('kant'), gem.BFS_NUMMER.alias('bfs'), gem.NAME.alias('name'), gem.EINWOHNERZ.alias('pers'), gem.geometry)\n",
    "gem = gem.filter(gem.kant.eqNullSafe(5))\n",
    "\n",
    "gem.alias('gem')\n",
    "gem.show(2)\n"
   ]
  },
  {
   "cell_type": "markdown",
   "id": "564103b4-e3b5-45d4-a666-168dd0ada66b",
   "metadata": {},
   "source": [
    "# Wohngebiete pro Gemeinde (wgg)\n",
    "\n",
    "Die TLM Siedlungsgebiete werden an den Gemeindegrenzen verschnitten. Die resultierende \"Quartiere\" der Gemeinde zugeordnet, in welcher ihr Zentrumspunkt zu liegen kommt."
   ]
  },
  {
   "cell_type": "code",
   "execution_count": 25,
   "id": "07eb0fd6-526f-4d59-8d44-869b5ea8a191",
   "metadata": {
    "tags": []
   },
   "outputs": [],
   "source": [
    "_p_cover = '../data/ch/tlm_reg/swisstlmregio_product_lv95/Landcover/swissTLMRegio_LandCover.shp'\n",
    "\n",
    "_pdf_cover = gpd.read_file(_p_cover)\n",
    "wg = sed.createDataFrame(_pdf_cover)\n",
    "wg = wg.select(wg.OBJVAL.alias('art'), wg.geometry.alias('poly'))\n",
    "wg = wg.filter('art in (\"Siedl\",\"Stadtzentr\")')\n",
    "\n",
    "gem.createOrReplaceTempView('gem')\n",
    "wg.createOrReplaceTempView('wg')\n",
    "\n",
    "wgg = sed.sql('select ST_Intersection(wg.poly, gem.geometry) as poly from gem, wg')\n",
    "wgg.createOrReplaceTempView('wgg')\n",
    "\n",
    "wgg = sed.sql('select gem.bfs, gem.kant, gem.name, gem.pers, ST_Area(wgg.poly) as quart_fl, wgg.poly from wgg inner join gem on ST_Within(ST_Centroid(wgg.poly), gem.geometry)')\n",
    "wgg.createOrReplaceTempView('wgg')"
   ]
  },
  {
   "cell_type": "markdown",
   "id": "d8bca667-e977-4dcf-b93f-fab6c189a07d",
   "metadata": {},
   "source": [
    "# Personen mittels Flächenverhältnis auf die Quartiere verteilen\n",
    "\n",
    "Verteilt die Einwohner der Gemeinde auf die Quartiere gemäss dem Verhältnis der Quartierflächen zur Gesamtfläche aller Quartiere einer Gemeinde.\n",
    "\n",
    "Könnte man wahrscheinlich noch \"sparkiger\" machen, aber so funktioniert es auch"
   ]
  },
  {
   "cell_type": "code",
   "execution_count": 30,
   "id": "9df95fc5-8585-43c1-871f-8986d5ea6a39",
   "metadata": {
    "tags": []
   },
   "outputs": [
    {
     "name": "stderr",
     "output_type": "stream",
     "text": [
      "24/02/25 20:39:15 WARN TaskSetManager: Stage 54 contains a task of very large size (28004 KiB). The maximum recommended task size is 1000 KiB.\n",
      "24/02/25 20:39:23 WARN TaskSetManager: Stage 55 contains a task of very large size (28004 KiB). The maximum recommended task size is 1000 KiB.\n",
      "24/02/25 20:39:32 WARN JoinQuery: UseIndex is true, but no index exists. Will build index on the fly.\n",
      "24/02/25 20:39:32 WARN TaskSetManager: Stage 56 contains a task of very large size (13567 KiB). The maximum recommended task size is 1000 KiB.\n",
      "24/02/25 20:39:33 WARN TaskSetManager: Stage 57 contains a task of very large size (28004 KiB). The maximum recommended task size is 1000 KiB.\n",
      "24/02/25 20:39:41 WARN TaskSetManager: Stage 59 contains a task of very large size (28004 KiB). The maximum recommended task size is 1000 KiB.\n",
      "24/02/25 20:39:49 WARN TaskSetManager: Stage 60 contains a task of very large size (28004 KiB). The maximum recommended task size is 1000 KiB.\n",
      "24/02/25 20:39:58 WARN JoinQuery: UseIndex is true, but no index exists. Will build index on the fly.\n",
      "24/02/25 20:39:58 WARN TaskSetManager: Stage 61 contains a task of very large size (28004 KiB). The maximum recommended task size is 1000 KiB.\n",
      "24/02/25 20:40:06 WARN TaskSetManager: Stage 62 contains a task of very large size (13567 KiB). The maximum recommended task size is 1000 KiB.\n",
      "[Stage 61:===============>(15 + 1) / 16][Stage 62:=============>    (3 + 1) / 4]\r"
     ]
    },
    {
     "name": "stdout",
     "output_type": "stream",
     "text": [
      "+----+----+-----------+-----+------------------+--------------------+----+------------------+------------------+\n",
      "| bfs|kant|       name| pers|          quart_fl|                poly| bfs|            tot_fl|        quart_pers|\n",
      "+----+----+-----------+-----+------------------+--------------------+----+------------------+------------------+\n",
      "|1371| 5.0|     Sattel| 2021|          221929.0|POLYGON ((2691552...|1371|1132879.7963902224| 395.9100607400249|\n",
      "|1371| 5.0|     Sattel| 2021| 910950.7963902225|POLYGON ((2691097...|1371|1132879.7963902224|1625.0899392599752|\n",
      "|1374| 5.0|Steinerberg|  951|503351.39061434654|POLYGON ((2687459...|1374|503351.39061434654|             951.0|\n",
      "|1343| 5.0|  Innerthal|  180|          163002.5|POLYGON ((2712574...|1343|          163002.5|             180.0|\n",
      "|1362| 5.0|       Arth|12359| 47320.22826634711|POLYGON ((2678572...|1362|3366461.5815641894|173.72267200270522|\n",
      "|1362| 5.0|       Arth|12359| 3319141.353297842|POLYGON ((2683157...|1362|3366461.5815641894|12185.277327997295|\n",
      "|1361| 5.0|    Alpthal|  618|          213153.5|POLYGON ((2697182...|1361|357943.61129958415| 368.0156841512903|\n",
      "|1361| 5.0|    Alpthal|  618|144790.11129958418|POLYGON ((2696257...|1361|357943.61129958415| 249.9843158487097|\n",
      "|1347| 5.0|     Tuggen| 3358| 986001.1288023773|POLYGON ((2714488...|1347| 986001.1288023773|            3358.0|\n",
      "|1368| 5.0|  Oberiberg|  867| 586797.8047176413|POLYGON ((2702562...|1368| 696202.3263049218| 730.7555253232115|\n",
      "+----+----+-----------+-----+------------------+--------------------+----+------------------+------------------+\n",
      "only showing top 10 rows\n",
      "\n"
     ]
    },
    {
     "name": "stderr",
     "output_type": "stream",
     "text": [
      "                                                                                \r"
     ]
    }
   ],
   "source": [
    "fl_summ = sed.sql('select wgg.bfs, sum(ST_Area(poly)) as tot_fl from wgg group by bfs')\n",
    "quart = wgg.join(fl_summ, wgg.bfs == fl_summ.bfs).withColumn('quart_pers', wgg.pers * wgg.quart_fl / fl_summ.tot_fl)\n",
    "\n",
    "quart.show(10)"
   ]
  },
  {
   "cell_type": "code",
   "execution_count": null,
   "id": "350af60d-0b6a-4b7d-a03d-0a14af22df66",
   "metadata": {},
   "outputs": [],
   "source": []
  }
 ],
 "metadata": {
  "kernelspec": {
   "display_name": "Python 3 (ipykernel)",
   "language": "python",
   "name": "python3"
  },
  "language_info": {
   "codemirror_mode": {
    "name": "ipython",
    "version": 3
   },
   "file_extension": ".py",
   "mimetype": "text/x-python",
   "name": "python",
   "nbconvert_exporter": "python",
   "pygments_lexer": "ipython3",
   "version": "3.10.12"
  }
 },
 "nbformat": 4,
 "nbformat_minor": 5
}
